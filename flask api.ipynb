{
 "cells": [
  {
   "cell_type": "code",
   "execution_count": null,
   "metadata": {},
   "outputs": [],
   "source": [
    "import os\n",
    "import numpy as np\n",
    "from flask import Flask\n",
    "import cv2\n",
    "from tensorflow.keras.models import load_model\n",
    "\n",
    "IM_SIZE = 33\n",
    "\n",
    "app = Flask(__name__)\n",
    "cap = cv2.VideoCapture(0)\n",
    "model = load_model('good_model.h5')\n",
    "\n",
    "@app.route('/video_feed')\n",
    "def predict_video():\n",
    "    global cap\n",
    "    face_cascade = cv2.CascadeClassifier('haarcascade_frontalface_default.xml')\n",
    "\n",
    "    labels_dict={1:'with_mask',0:'without_mask'}\n",
    "    color_dict={0:(0,0,255),1:(0,255,0)}\n",
    "\n",
    "    while True:\n",
    "        ret, frame = cap.read()\n",
    "        gray = cv2.cvtColor(frame, cv2.COLOR_BGR2GRAY)\n",
    "        faces = face_cascade.detectMultiScale(gray, 1.3, 5)\n",
    "        for (x, y, w, h) in faces:\n",
    "            face_img=gray[y:y+w,x:x+w]        \n",
    "            resized=cv2.resize(face_img,(IM_SIZE,IM_SIZE))\n",
    "            normalized=resized/255.0\n",
    "            reshaped=np.reshape(normalized,(1,IM_SIZE,IM_SIZE,1))\n",
    "            result=model.predict(reshaped)\n",
    "            label=np.argmax(result,axis=1)[0]\n",
    "            cv2.rectangle(frame,(x,y),(x+w,y+h),color_dict[label],2)\n",
    "            cv2.rectangle(frame,(x,y-40),(x+w,y),color_dict[label],-1)\n",
    "            cv2.putText(frame, labels_dict[label], (x, y-10), cv2.FONT_HERSHEY_SIMPLEX,0.5,(255,255,255),2)\n",
    "\n",
    "        cv2.imshow('LIVE',frame)\n",
    "        key=cv2.waitKey(1)\n",
    "\n",
    "        if(key==27):\n",
    "            break\n",
    "\n",
    "    cv2.destroyAllWindows()\n",
    "    cap.release()\n",
    "\n",
    "if __name__ == '__main__':\n",
    "    port = os.environ.get('PORT')\n",
    "\n",
    "    if port:\n",
    "        app.run(host='0.0.0.0', port=int(port))\n",
    "    else:\n",
    "        app.run()"
   ]
  }
 ],
 "metadata": {
  "kernelspec": {
   "display_name": "Python 3",
   "language": "python",
   "name": "python3"
  },
  "language_info": {
   "codemirror_mode": {
    "name": "ipython",
    "version": 3
   },
   "file_extension": ".py",
   "mimetype": "text/x-python",
   "name": "python",
   "nbconvert_exporter": "python",
   "pygments_lexer": "ipython3",
   "version": "3.6.10"
  }
 },
 "nbformat": 4,
 "nbformat_minor": 4
}
