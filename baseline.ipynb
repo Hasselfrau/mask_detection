{
 "cells": [
  {
   "cell_type": "markdown",
   "metadata": {
    "colab_type": "text",
    "id": "F3zXowz01nPY"
   },
   "source": [
    "# Data pre-processing"
   ]
  },
  {
   "cell_type": "code",
   "execution_count": 1,
   "metadata": {
    "colab": {},
    "colab_type": "code",
    "id": "8wpaodwI1nPZ"
   },
   "outputs": [],
   "source": [
    "import cv2\n",
    "import os\n",
    "import numpy as np \n",
    "from keras.utils import np_utils\n",
    "from zipfile import ZipFile\n"
   ]
  },
  {
   "cell_type": "markdown",
   "metadata": {
    "colab_type": "text",
    "id": "24oY422v1nPe"
   },
   "source": [
    "extract images to working directory"
   ]
  },
  {
   "cell_type": "code",
   "execution_count": 2,
   "metadata": {
    "colab": {},
    "colab_type": "code",
    "id": "usG2ijAX1nPe"
   },
   "outputs": [],
   "source": [
    "# file_name = \"./fmr_dataset1.zip\"\n",
    "# with ZipFile(file_name, 'r') as zipf:\n",
    "#     zipf.extractall() \n"
   ]
  },
  {
   "cell_type": "markdown",
   "metadata": {
    "colab_type": "text",
    "id": "3gj-113g1nPi"
   },
   "source": [
    "parse folder names (with/without mask) to categories and map to binary labels"
   ]
  },
  {
   "cell_type": "code",
   "execution_count": 3,
   "metadata": {
    "colab": {
     "base_uri": "https://localhost:8080/",
     "height": 34
    },
    "colab_type": "code",
    "executionInfo": {
     "elapsed": 2595,
     "status": "ok",
     "timestamp": 1598798598708,
     "user": {
      "displayName": "Michael Goncharov",
      "photoUrl": "https://lh3.googleusercontent.com/a-/AOh14Gh4KBmP55_UoYlU4EZj7JZCnChnOf9I6GTbVYD_cQ=s64",
      "userId": "13526504668916877091"
     },
     "user_tz": -180
    },
    "id": "PvL8EKhP1nPi",
    "outputId": "43846a00-22eb-4abd-8abe-a6a2d56108e7"
   },
   "outputs": [
    {
     "name": "stdout",
     "output_type": "stream",
     "text": [
      "{'without_mask': 0, 'with_mask': 1}\n"
     ]
    }
   ],
   "source": [
    "data_path='./fmr_dataset1'\n",
    "classes=os.listdir(data_path)\n",
    "labels=[l for l, c in enumerate(classes)]\n",
    "classes_labels = dict(zip(classes, labels))\n",
    "print(classes_labels)"
   ]
  },
  {
   "cell_type": "markdown",
   "metadata": {
    "colab_type": "text",
    "id": "Xc3YEt5u1nPo"
   },
   "source": [
    "load the images to greyscale and resize them"
   ]
  },
  {
   "cell_type": "code",
   "execution_count": 4,
   "metadata": {
    "colab": {},
    "colab_type": "code",
    "id": "wfZ1jaGs1nPp"
   },
   "outputs": [],
   "source": [
    "IM_SIZE = 50\n",
    "data = []\n",
    "labels = []\n",
    "\n",
    "for c in classes:\n",
    "    class_folder_path=os.path.join(data_path, c)\n",
    "    im_names=os.listdir(class_folder_path)\n",
    "        \n",
    "    for n in im_names:\n",
    "        im_path = os.path.join(class_folder_path,n)\n",
    "        im_gray = cv2.imread(im_path, 0)         \n",
    "        im_resized = cv2.resize(im_gray,(IM_SIZE,IM_SIZE))\n",
    "        data.append(im_resized)\n",
    "        labels.append(classes_labels[c])"
   ]
  },
  {
   "cell_type": "markdown",
   "metadata": {
    "colab_type": "text",
    "id": "IVA6DTb31nPs"
   },
   "source": [
    "normalize the pixel arrays and convert labels to one-hot vectors, save those variables for use with keras"
   ]
  },
  {
   "cell_type": "code",
   "execution_count": 5,
   "metadata": {
    "colab": {},
    "colab_type": "code",
    "id": "le6aJtRd1nPs"
   },
   "outputs": [],
   "source": [
    "data = np.array(data)/255.\n",
    "data = data.reshape((data.shape[0],IM_SIZE,IM_SIZE,1))\n",
    "labels = np_utils.to_categorical(np.array(labels))"
   ]
  },
  {
   "cell_type": "markdown",
   "metadata": {
    "colab_type": "text",
    "id": "OIx-nzWv1nPv"
   },
   "source": [
    "# Training "
   ]
  },
  {
   "cell_type": "code",
   "execution_count": 6,
   "metadata": {
    "colab": {},
    "colab_type": "code",
    "id": "Ox9fq7ia1nPw"
   },
   "outputs": [],
   "source": [
    "from keras.models import Sequential\n",
    "from keras.layers import Dense,Activation,Flatten,Dropout\n",
    "from keras.layers import Conv2D,MaxPooling2D\n",
    "from sklearn.model_selection import train_test_split"
   ]
  },
  {
   "cell_type": "markdown",
   "metadata": {
    "colab_type": "text",
    "id": "Dyo8XO7P1nP0"
   },
   "source": [
    "create a cnn "
   ]
  },
  {
   "cell_type": "code",
   "execution_count": 7,
   "metadata": {
    "colab": {},
    "colab_type": "code",
    "id": "9B9PsSTX1nP1"
   },
   "outputs": [],
   "source": [
    "model=Sequential()\n",
    "model.add(Conv2D(200,(3,3),input_shape=data.shape[1:]))\n",
    "model.add(Activation('relu'))\n",
    "model.add(MaxPooling2D(pool_size=(2,2)))\n",
    "model.add(Conv2D(100,(3,3)))\n",
    "model.add(Activation('relu'))\n",
    "model.add(MaxPooling2D(pool_size=(2,2)))\n",
    "model.add(Flatten())\n",
    "model.add(Dropout(0.5))\n",
    "model.add(Dense(50,activation='relu'))\n",
    "model.add(Dense(2,activation='softmax'))"
   ]
  },
  {
   "cell_type": "code",
   "execution_count": 8,
   "metadata": {
    "colab": {
     "base_uri": "https://localhost:8080/",
     "height": 493
    },
    "colab_type": "code",
    "executionInfo": {
     "elapsed": 4856,
     "status": "ok",
     "timestamp": 1598798601090,
     "user": {
      "displayName": "Michael Goncharov",
      "photoUrl": "https://lh3.googleusercontent.com/a-/AOh14Gh4KBmP55_UoYlU4EZj7JZCnChnOf9I6GTbVYD_cQ=s64",
      "userId": "13526504668916877091"
     },
     "user_tz": -180
    },
    "id": "9HErZtXH-AHT",
    "outputId": "09e9b4bd-4b37-4a53-924a-6e5717f16cc9"
   },
   "outputs": [
    {
     "name": "stdout",
     "output_type": "stream",
     "text": [
      "Model: \"sequential\"\n",
      "_________________________________________________________________\n",
      "Layer (type)                 Output Shape              Param #   \n",
      "=================================================================\n",
      "conv2d (Conv2D)              (None, 48, 48, 200)       2000      \n",
      "_________________________________________________________________\n",
      "activation (Activation)      (None, 48, 48, 200)       0         \n",
      "_________________________________________________________________\n",
      "max_pooling2d (MaxPooling2D) (None, 24, 24, 200)       0         \n",
      "_________________________________________________________________\n",
      "conv2d_1 (Conv2D)            (None, 22, 22, 100)       180100    \n",
      "_________________________________________________________________\n",
      "activation_1 (Activation)    (None, 22, 22, 100)       0         \n",
      "_________________________________________________________________\n",
      "max_pooling2d_1 (MaxPooling2 (None, 11, 11, 100)       0         \n",
      "_________________________________________________________________\n",
      "flatten (Flatten)            (None, 12100)             0         \n",
      "_________________________________________________________________\n",
      "dropout (Dropout)            (None, 12100)             0         \n",
      "_________________________________________________________________\n",
      "dense (Dense)                (None, 50)                605050    \n",
      "_________________________________________________________________\n",
      "dense_1 (Dense)              (None, 2)                 102       \n",
      "=================================================================\n",
      "Total params: 787,252\n",
      "Trainable params: 787,252\n",
      "Non-trainable params: 0\n",
      "_________________________________________________________________\n"
     ]
    }
   ],
   "source": [
    "model.summary()"
   ]
  },
  {
   "cell_type": "markdown",
   "metadata": {
    "colab_type": "text",
    "id": "XdjDDEWS1nP4"
   },
   "source": [
    "compile it"
   ]
  },
  {
   "cell_type": "code",
   "execution_count": 9,
   "metadata": {
    "colab": {},
    "colab_type": "code",
    "id": "_mJqzWo31nP5"
   },
   "outputs": [],
   "source": [
    "model.compile(loss='binary_crossentropy', optimizer='adam', metrics=['accuracy'])"
   ]
  },
  {
   "cell_type": "markdown",
   "metadata": {
    "colab_type": "text",
    "id": "NRnv574a1nP_"
   },
   "source": [
    "split the data"
   ]
  },
  {
   "cell_type": "code",
   "execution_count": 10,
   "metadata": {
    "colab": {},
    "colab_type": "code",
    "id": "ecj8jcco1nQA"
   },
   "outputs": [],
   "source": [
    "X_train, X_test, y_train, y_test = train_test_split(data, labels, test_size=0.1)"
   ]
  },
  {
   "cell_type": "markdown",
   "metadata": {
    "colab_type": "text",
    "id": "j26ieyjz1nQD"
   },
   "source": [
    "train the cnn"
   ]
  },
  {
   "cell_type": "code",
   "execution_count": 11,
   "metadata": {
    "colab": {
     "base_uri": "https://localhost:8080/",
     "height": 377
    },
    "colab_type": "code",
    "executionInfo": {
     "elapsed": 180056,
     "status": "ok",
     "timestamp": 1598798776452,
     "user": {
      "displayName": "Michael Goncharov",
      "photoUrl": "https://lh3.googleusercontent.com/a-/AOh14Gh4KBmP55_UoYlU4EZj7JZCnChnOf9I6GTbVYD_cQ=s64",
      "userId": "13526504668916877091"
     },
     "user_tz": -180
    },
    "id": "aBqVeizn1nQD",
    "outputId": "3548c0ef-dbe7-460c-c8b4-4278e67d5c9a"
   },
   "outputs": [
    {
     "name": "stdout",
     "output_type": "stream",
     "text": [
      "Epoch 1/10\n",
      "31/31 [==============================] - 9s 301ms/step - loss: 0.6762 - accuracy: 0.5909 - val_loss: 0.5617 - val_accuracy: 0.7661\n",
      "Epoch 2/10\n",
      "31/31 [==============================] - 9s 275ms/step - loss: 0.5075 - accuracy: 0.7626 - val_loss: 0.3890 - val_accuracy: 0.8226\n",
      "Epoch 3/10\n",
      "31/31 [==============================] - 9s 277ms/step - loss: 0.3050 - accuracy: 0.8869 - val_loss: 0.3014 - val_accuracy: 0.8911\n",
      "Epoch 4/10\n",
      "31/31 [==============================] - 9s 291ms/step - loss: 0.1993 - accuracy: 0.9303 - val_loss: 0.1869 - val_accuracy: 0.9476\n",
      "Epoch 5/10\n",
      "31/31 [==============================] - 9s 287ms/step - loss: 0.1676 - accuracy: 0.9414 - val_loss: 0.2434 - val_accuracy: 0.9032\n",
      "Epoch 6/10\n",
      "31/31 [==============================] - 10s 317ms/step - loss: 0.1263 - accuracy: 0.9515 - val_loss: 0.1963 - val_accuracy: 0.9274\n",
      "Epoch 7/10\n",
      "31/31 [==============================] - 10s 320ms/step - loss: 0.1120 - accuracy: 0.9626 - val_loss: 0.1664 - val_accuracy: 0.9476\n",
      "Epoch 8/10\n",
      "31/31 [==============================] - 10s 314ms/step - loss: 0.0977 - accuracy: 0.9657 - val_loss: 0.1606 - val_accuracy: 0.9556\n",
      "Epoch 9/10\n",
      "31/31 [==============================] - 10s 324ms/step - loss: 0.0935 - accuracy: 0.9657 - val_loss: 0.1906 - val_accuracy: 0.9274\n",
      "Epoch 10/10\n",
      "31/31 [==============================] - 10s 319ms/step - loss: 0.0577 - accuracy: 0.9818 - val_loss: 0.1477 - val_accuracy: 0.9476\n"
     ]
    }
   ],
   "source": [
    "training = model.fit(X_train, y_train, epochs=10, validation_split=0.2)"
   ]
  },
  {
   "cell_type": "markdown",
   "metadata": {
    "colab_type": "text",
    "id": "Y1nzcBvL1nQK"
   },
   "source": [
    "# Evaluation"
   ]
  },
  {
   "cell_type": "code",
   "execution_count": 12,
   "metadata": {
    "colab": {
     "base_uri": "https://localhost:8080/",
     "height": 71
    },
    "colab_type": "code",
    "executionInfo": {
     "elapsed": 180014,
     "status": "ok",
     "timestamp": 1598798776457,
     "user": {
      "displayName": "Michael Goncharov",
      "photoUrl": "https://lh3.googleusercontent.com/a-/AOh14Gh4KBmP55_UoYlU4EZj7JZCnChnOf9I6GTbVYD_cQ=s64",
      "userId": "13526504668916877091"
     },
     "user_tz": -180
    },
    "id": "E6FgDrLh1nQL",
    "outputId": "ca57951d-67f7-424d-b3df-af97f6faffe9"
   },
   "outputs": [],
   "source": [
    "from matplotlib import pyplot as plt\n",
    "from sklearn.metrics import classification_report, confusion_matrix\n",
    "import seaborn as sns"
   ]
  },
  {
   "cell_type": "markdown",
   "metadata": {
    "colab_type": "text",
    "id": "vO_xDtuM1nQN"
   },
   "source": [
    "plot loss and accuracy on train and dev sets"
   ]
  },
  {
   "cell_type": "code",
   "execution_count": 13,
   "metadata": {
    "colab": {
     "base_uri": "https://localhost:8080/",
     "height": 295
    },
    "colab_type": "code",
    "executionInfo": {
     "elapsed": 180007,
     "status": "ok",
     "timestamp": 1598798776459,
     "user": {
      "displayName": "Michael Goncharov",
      "photoUrl": "https://lh3.googleusercontent.com/a-/AOh14Gh4KBmP55_UoYlU4EZj7JZCnChnOf9I6GTbVYD_cQ=s64",
      "userId": "13526504668916877091"
     },
     "user_tz": -180
    },
    "id": "UeDzMCkT1nQO",
    "outputId": "962738b1-53dc-4e94-b78a-73ea99103299"
   },
   "outputs": [
    {
     "data": {
      "image/png": "[encoded data removed]",
      "text/plain": [
       "<Figure size 432x288 with 1 Axes>"
      ]
     },
     "metadata": {
      "needs_background": "light"
     },
     "output_type": "display_data"
    }
   ],
   "source": [
    "plt.plot(training.history['loss'],'r', label='training loss')\n",
    "plt.plot(training.history['val_loss'], label='validation loss')\n",
    "plt.xlabel('epoch')\n",
    "plt.ylabel('loss')\n",
    "plt.xticks(np.arange(10))\n",
    "plt.title('train and dev loss as function of epoch')\n",
    "plt.legend()\n",
    "plt.show()"
   ]
  },
  {
   "cell_type": "code",
   "execution_count": 14,
   "metadata": {
    "colab": {
     "base_uri": "https://localhost:8080/",
     "height": 295
    },
    "colab_type": "code",
    "executionInfo": {
     "elapsed": 180571,
     "status": "ok",
     "timestamp": 1598798777037,
     "user": {
      "displayName": "Michael Goncharov",
      "photoUrl": "https://lh3.googleusercontent.com/a-/AOh14Gh4KBmP55_UoYlU4EZj7JZCnChnOf9I6GTbVYD_cQ=s64",
      "userId": "13526504668916877091"
     },
     "user_tz": -180
    },
    "id": "F7lbeVJz1nQR",
    "outputId": "ec42b5a7-fe6f-4c2b-e5fa-4228e6d3f1f1"
   },
   "outputs": [
    {
     "data": {
      "image/png": "[encoded data removed]",
      "text/plain": [
       "<Figure size 432x288 with 1 Axes>"
      ]
     },
     "metadata": {
      "needs_background": "light"
     },
     "output_type": "display_data"
    }
   ],
   "source": [
    "plt.plot(training.history['accuracy'],'r',label='training accuracy')\n",
    "plt.plot(training.history['val_accuracy'],label='validation accuracy')\n",
    "plt.xlabel('# epochs')\n",
    "plt.xticks(np.arange(10))\n",
    "plt.ylabel('accuracy')\n",
    "plt.title('train and dev acc as function of epoch')\n",
    "plt.legend()\n",
    "plt.show()"
   ]
  },
  {
   "cell_type": "markdown",
   "metadata": {
    "colab_type": "text",
    "id": "Yg65YY4H1nQV"
   },
   "source": [
    "evaluate the model"
   ]
  },
  {
   "cell_type": "code",
   "execution_count": 15,
   "metadata": {
    "colab": {
     "base_uri": "https://localhost:8080/",
     "height": 51
    },
    "colab_type": "code",
    "executionInfo": {
     "elapsed": 180803,
     "status": "ok",
     "timestamp": 1598798777297,
     "user": {
      "displayName": "Michael Goncharov",
      "photoUrl": "https://lh3.googleusercontent.com/a-/AOh14Gh4KBmP55_UoYlU4EZj7JZCnChnOf9I6GTbVYD_cQ=s64",
      "userId": "13526504668916877091"
     },
     "user_tz": -180
    },
    "id": "haSf4rEY1nQV",
    "outputId": "9541827e-9dc7-4f36-9245-e9230855d69d"
   },
   "outputs": [
    {
     "name": "stdout",
     "output_type": "stream",
     "text": [
      "5/5 [==============================] - 0s 56ms/step - loss: 0.0923 - accuracy: 0.9783\n"
     ]
    },
    {
     "data": {
      "text/plain": [
       "[0.09232212603092194, 0.97826087474823]"
      ]
     },
     "execution_count": 15,
     "metadata": {},
     "output_type": "execute_result"
    }
   ],
   "source": [
    "model.evaluate(X_test, y_test)"
   ]
  },
  {
   "cell_type": "code",
   "execution_count": 16,
   "metadata": {
    "colab": {
     "base_uri": "https://localhost:8080/",
     "height": 281
    },
    "colab_type": "code",
    "executionInfo": {
     "elapsed": 181978,
     "status": "ok",
     "timestamp": 1598798778488,
     "user": {
      "displayName": "Michael Goncharov",
      "photoUrl": "https://lh3.googleusercontent.com/a-/AOh14Gh4KBmP55_UoYlU4EZj7JZCnChnOf9I6GTbVYD_cQ=s64",
      "userId": "13526504668916877091"
     },
     "user_tz": -180
    },
    "id": "swtc_uzZFfiy",
    "outputId": "e27d0c76-eb89-4061-ca47-c1c7f52359b3"
   },
   "outputs": [
    {
     "data": {
      "image/png": "[encoded data removed]",
      "text/plain": [
       "<Figure size 432x288 with 2 Axes>"
      ]
     },
     "metadata": {
      "needs_background": "light"
     },
     "output_type": "display_data"
    }
   ],
   "source": [
    "y_pred = model.predict(X_test)\n",
    "sns.heatmap(confusion_matrix(y_test.argmax(axis=1), y_pred.argmax(axis=1)), annot=True)\n",
    "plt.title('confusion matrix heatmap')\n",
    "plt.show()"
   ]
  },
  {
   "cell_type": "code",
   "execution_count": 17,
   "metadata": {
    "colab": {
     "base_uri": "https://localhost:8080/",
     "height": 170
    },
    "colab_type": "code",
    "executionInfo": {
     "elapsed": 678,
     "status": "ok",
     "timestamp": 1598799033464,
     "user": {
      "displayName": "Michael Goncharov",
      "photoUrl": "https://lh3.googleusercontent.com/a-/AOh14Gh4KBmP55_UoYlU4EZj7JZCnChnOf9I6GTbVYD_cQ=s64",
      "userId": "13526504668916877091"
     },
     "user_tz": -180
    },
    "id": "4gkMQiSgzuYd",
    "outputId": "177a925b-3d39-431e-bd4d-abc80c203f3c"
   },
   "outputs": [
    {
     "name": "stdout",
     "output_type": "stream",
     "text": [
      "              precision    recall  f1-score   support\n",
      "\n",
      "           0       0.97      0.99      0.98        74\n",
      "           1       0.98      0.97      0.98        64\n",
      "\n",
      "    accuracy                           0.98       138\n",
      "   macro avg       0.98      0.98      0.98       138\n",
      "weighted avg       0.98      0.98      0.98       138\n",
      "\n"
     ]
    }
   ],
   "source": [
    "cr = classification_report(y_test.argmax(axis=1), y_pred.argmax(axis=1))\n",
    "print(cr)\n"
   ]
  },
  {
   "cell_type": "code",
   "execution_count": 18,
   "metadata": {
    "colab": {
     "base_uri": "https://localhost:8080/",
     "height": 246
    },
    "colab_type": "code",
    "executionInfo": {
     "elapsed": 1097,
     "status": "ok",
     "timestamp": 1598800589781,
     "user": {
      "displayName": "Michael Goncharov",
      "photoUrl": "https://lh3.googleusercontent.com/a-/AOh14Gh4KBmP55_UoYlU4EZj7JZCnChnOf9I6GTbVYD_cQ=s64",
      "userId": "13526504668916877091"
     },
     "user_tz": -180
    },
    "id": "0koSOXoJ3UPU",
    "outputId": "c2078745-0db5-4ebb-96a0-9127e8531b73"
   },
   "outputs": [
    {
     "data": {
      "image/png": "[encoded data removed]",
      "text/plain": [
       "<Figure size 1080x1080 with 3 Axes>"
      ]
     },
     "metadata": {
      "needs_background": "light"
     },
     "output_type": "display_data"
    }
   ],
   "source": [
    "misses = np.unique(np.where(y_test != np.round(y_pred))[0])\n",
    "fig, ax = plt.subplots(1,len(misses), figsize=(15,15))\n",
    "for i, img in enumerate(misses):\n",
    "    ax[i].imshow(X_test[img].flatten().reshape(IM_SIZE,IM_SIZE),cmap='gray')\n",
    "    ax[i].set_title(str(np.round(y_pred[img],2)))\n",
    "plt.show()"
   ]
  }
 ],
 "metadata": {
  "colab": {
   "name": "baseline.ipynb",
   "provenance": [
    {
     "file_id": "1jypI2c7Xhc5_UPbDGxUFqwYVubWlYAVI",
     "timestamp": 1598801357070
    }
   ]
  },
  "kernelspec": {
   "display_name": "Python 3",
   "language": "python",
   "name": "python3"
  },
  "language_info": {
   "codemirror_mode": {
    "name": "ipython",
    "version": 3
   },
   "file_extension": ".py",
   "mimetype": "text/x-python",
   "name": "python",
   "nbconvert_exporter": "python",
   "pygments_lexer": "ipython3",
   "version": "3.6.10"
  }
 },
 "nbformat": 4,
 "nbformat_minor": 1
}
