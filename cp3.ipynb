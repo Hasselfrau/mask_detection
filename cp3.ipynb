{
 "cells": [
  {
   "cell_type": "markdown",
   "metadata": {
    "colab_type": "text",
    "id": "F3zXowz01nPY"
   },
   "source": [
    "# Data pre-processing"
   ]
  },
  {
   "cell_type": "code",
   "execution_count": 1,
   "metadata": {
    "colab": {},
    "colab_type": "code",
    "id": "8wpaodwI1nPZ"
   },
   "outputs": [],
   "source": [
    "import cv2\n",
    "import os\n",
    "import numpy as np \n",
    "from keras.utils import np_utils\n",
    "from zipfile import ZipFile\n"
   ]
  },
  {
   "cell_type": "markdown",
   "metadata": {
    "colab_type": "text",
    "id": "24oY422v1nPe"
   },
   "source": [
    "#### extract images to working directory"
   ]
  },
  {
   "cell_type": "code",
   "execution_count": 2,
   "metadata": {
    "colab": {},
    "colab_type": "code",
    "id": "usG2ijAX1nPe"
   },
   "outputs": [],
   "source": [
    "# file_name = \"./fmr_dataset2.zip\"\n",
    "# with ZipFile(file_name, 'r') as zipf:\n",
    "#     zipf.extractall() \n"
   ]
  },
  {
   "cell_type": "markdown",
   "metadata": {
    "colab_type": "text",
    "id": "3gj-113g1nPi"
   },
   "source": [
    "#### parse folder names to categories and map to binary labels"
   ]
  },
  {
   "cell_type": "code",
   "execution_count": 3,
   "metadata": {
    "colab": {
     "base_uri": "https://localhost:8080/",
     "height": 34
    },
    "colab_type": "code",
    "executionInfo": {
     "elapsed": 2595,
     "status": "ok",
     "timestamp": 1598798598708,
     "user": {
      "displayName": "Michael Goncharov",
      "photoUrl": "https://lh3.googleusercontent.com/a-/AOh14Gh4KBmP55_UoYlU4EZj7JZCnChnOf9I6GTbVYD_cQ=s64",
      "userId": "13526504668916877091"
     },
     "user_tz": -180
    },
    "id": "PvL8EKhP1nPi",
    "outputId": "43846a00-22eb-4abd-8abe-a6a2d56108e7"
   },
   "outputs": [
    {
     "name": "stdout",
     "output_type": "stream",
     "text": [
      "{'without_mask': 0, 'with_mask': 1}\n"
     ]
    }
   ],
   "source": [
    "data_path='./fmr_dataset2'\n",
    "classes=os.listdir(data_path)\n",
    "labels=[l for l, c in enumerate(classes)]\n",
    "classes_labels = dict(zip(classes, labels))\n",
    "print(classes_labels)"
   ]
  },
  {
   "cell_type": "markdown",
   "metadata": {
    "colab_type": "text",
    "id": "Xc3YEt5u1nPo"
   },
   "source": [
    "#### load  images to greyscale and resize them"
   ]
  },
  {
   "cell_type": "code",
   "execution_count": 4,
   "metadata": {
    "colab": {},
    "colab_type": "code",
    "id": "wfZ1jaGs1nPp"
   },
   "outputs": [],
   "source": [
    "IM_SIZE = 33\n",
    "data = []\n",
    "labels = []\n",
    "\n",
    "for c in classes:\n",
    "    class_folder_path=os.path.join(data_path, c)\n",
    "    im_names=os.listdir(class_folder_path)\n",
    "        \n",
    "    for n in im_names:\n",
    "        im_path = os.path.join(class_folder_path,n)\n",
    "        im_gray = cv2.imread(im_path, 0)\n",
    "        im_resized = cv2.resize(im_gray,(IM_SIZE,IM_SIZE))\n",
    "        data.append(im_resized)\n",
    "        labels.append(classes_labels[c])"
   ]
  },
  {
   "cell_type": "markdown",
   "metadata": {
    "colab_type": "text",
    "id": "IVA6DTb31nPs"
   },
   "source": [
    "#### normalize the pixel arrays and convert labels to one-hot vectors, save those variables for use with keras"
   ]
  },
  {
   "cell_type": "code",
   "execution_count": 5,
   "metadata": {
    "colab": {},
    "colab_type": "code",
    "id": "le6aJtRd1nPs"
   },
   "outputs": [],
   "source": [
    "data = np.array(data)/255.\n",
    "data = data.reshape((data.shape[0],IM_SIZE,IM_SIZE,1))\n",
    "labels = np_utils.to_categorical(np.array(labels))"
   ]
  },
  {
   "cell_type": "markdown",
   "metadata": {
    "colab_type": "text",
    "id": "OIx-nzWv1nPv"
   },
   "source": [
    "# Training "
   ]
  },
  {
   "cell_type": "code",
   "execution_count": 6,
   "metadata": {
    "colab": {},
    "colab_type": "code",
    "id": "Ox9fq7ia1nPw"
   },
   "outputs": [],
   "source": [
    "from keras.models import Sequential\n",
    "from keras.layers import Dense,Activation,Flatten,Dropout, Conv2D,MaxPooling2D\n",
    "from keras.callbacks import ModelCheckpoint, EarlyStopping\n",
    "from keras.models import load_model"
   ]
  },
  {
   "cell_type": "markdown",
   "metadata": {
    "colab_type": "text",
    "id": "Dyo8XO7P1nP0"
   },
   "source": [
    "#### create a cnn "
   ]
  },
  {
   "cell_type": "code",
   "execution_count": 7,
   "metadata": {
    "colab": {},
    "colab_type": "code",
    "id": "9B9PsSTX1nP1"
   },
   "outputs": [],
   "source": [
    "model=Sequential()\n",
    "model.add(Conv2D(200,(3,3),input_shape=data.shape[1:]))\n",
    "model.add(Activation('relu'))\n",
    "model.add(MaxPooling2D(pool_size=(2,2)))\n",
    "model.add(Conv2D(100,(3,3)))\n",
    "model.add(Activation('relu'))\n",
    "model.add(MaxPooling2D(pool_size=(2,2)))\n",
    "model.add(Flatten())\n",
    "model.add(Dropout(0.5))\n",
    "model.add(Dense(50,activation='relu'))\n",
    "model.add(Dense(2,activation='softmax'))"
   ]
  },
  {
   "cell_type": "code",
   "execution_count": 8,
   "metadata": {
    "colab": {
     "base_uri": "https://localhost:8080/",
     "height": 493
    },
    "colab_type": "code",
    "executionInfo": {
     "elapsed": 4856,
     "status": "ok",
     "timestamp": 1598798601090,
     "user": {
      "displayName": "Michael Goncharov",
      "photoUrl": "https://lh3.googleusercontent.com/a-/AOh14Gh4KBmP55_UoYlU4EZj7JZCnChnOf9I6GTbVYD_cQ=s64",
      "userId": "13526504668916877091"
     },
     "user_tz": -180
    },
    "id": "9HErZtXH-AHT",
    "outputId": "09e9b4bd-4b37-4a53-924a-6e5717f16cc9"
   },
   "outputs": [
    {
     "name": "stdout",
     "output_type": "stream",
     "text": [
      "Model: \"sequential\"\n",
      "_________________________________________________________________\n",
      "Layer (type)                 Output Shape              Param #   \n",
      "=================================================================\n",
      "conv2d (Conv2D)              (None, 31, 31, 200)       2000      \n",
      "_________________________________________________________________\n",
      "activation (Activation)      (None, 31, 31, 200)       0         \n",
      "_________________________________________________________________\n",
      "max_pooling2d (MaxPooling2D) (None, 15, 15, 200)       0         \n",
      "_________________________________________________________________\n",
      "conv2d_1 (Conv2D)            (None, 13, 13, 100)       180100    \n",
      "_________________________________________________________________\n",
      "activation_1 (Activation)    (None, 13, 13, 100)       0         \n",
      "_________________________________________________________________\n",
      "max_pooling2d_1 (MaxPooling2 (None, 6, 6, 100)         0         \n",
      "_________________________________________________________________\n",
      "flatten (Flatten)            (None, 3600)              0         \n",
      "_________________________________________________________________\n",
      "dropout (Dropout)            (None, 3600)              0         \n",
      "_________________________________________________________________\n",
      "dense (Dense)                (None, 50)                180050    \n",
      "_________________________________________________________________\n",
      "dense_1 (Dense)              (None, 2)                 102       \n",
      "=================================================================\n",
      "Total params: 362,252\n",
      "Trainable params: 362,252\n",
      "Non-trainable params: 0\n",
      "_________________________________________________________________\n"
     ]
    }
   ],
   "source": [
    "model.summary()"
   ]
  },
  {
   "cell_type": "markdown",
   "metadata": {
    "colab_type": "text",
    "id": "XdjDDEWS1nP4"
   },
   "source": [
    "#### compile it"
   ]
  },
  {
   "cell_type": "code",
   "execution_count": 9,
   "metadata": {
    "colab": {},
    "colab_type": "code",
    "id": "_mJqzWo31nP5"
   },
   "outputs": [],
   "source": [
    "model.compile(loss='binary_crossentropy', optimizer='adam', metrics=['accuracy'])"
   ]
  },
  {
   "cell_type": "markdown",
   "metadata": {
    "colab_type": "text",
    "id": "NRnv574a1nP_"
   },
   "source": [
    "#### split the data"
   ]
  },
  {
   "cell_type": "code",
   "execution_count": 10,
   "metadata": {},
   "outputs": [],
   "source": [
    "from sklearn.model_selection import train_test_split"
   ]
  },
  {
   "cell_type": "code",
   "execution_count": 11,
   "metadata": {
    "colab": {},
    "colab_type": "code",
    "id": "ecj8jcco1nQA"
   },
   "outputs": [],
   "source": [
    "X_train, X_test, y_train, y_test = train_test_split(data, labels, test_size=0.1)"
   ]
  },
  {
   "cell_type": "markdown",
   "metadata": {
    "colab_type": "text",
    "id": "j26ieyjz1nQD"
   },
   "source": [
    "#### train the cnn"
   ]
  },
  {
   "cell_type": "code",
   "execution_count": 12,
   "metadata": {},
   "outputs": [],
   "source": [
    "earlystopper = EarlyStopping(monitor='val_loss', patience=3, verbose=1, mode='min')\n",
    "checkpoint = ModelCheckpoint(\"model.h5\", monitor='val_loss', verbose=1, \n",
    "                             save_best_only=True, mode='min')\n",
    "callback_list= [earlystopper, checkpoint]"
   ]
  },
  {
   "cell_type": "code",
   "execution_count": 13,
   "metadata": {},
   "outputs": [
    {
     "name": "stdout",
     "output_type": "stream",
     "text": [
      "Epoch 1/70\n",
      "86/87 [============================>.] - ETA: 0s - loss: 0.6334 - accuracy: 0.6210\n",
      "Epoch 00001: val_loss improved from inf to 0.52575, saving model to model.h5\n",
      "87/87 [==============================] - 10s 110ms/step - loss: 0.6334 - accuracy: 0.6209 - val_loss: 0.5257 - val_accuracy: 0.7188\n",
      "Epoch 2/70\n",
      "86/87 [============================>.] - ETA: 0s - loss: 0.4576 - accuracy: 0.7816\n",
      "Epoch 00002: val_loss improved from 0.52575 to 0.34706, saving model to model.h5\n",
      "87/87 [==============================] - 11s 127ms/step - loss: 0.4570 - accuracy: 0.7818 - val_loss: 0.3471 - val_accuracy: 0.8493\n",
      "Epoch 3/70\n",
      "86/87 [============================>.] - ETA: 0s - loss: 0.3494 - accuracy: 0.8387\n",
      "Epoch 00003: val_loss improved from 0.34706 to 0.32705, saving model to model.h5\n",
      "87/87 [==============================] - 12s 139ms/step - loss: 0.3499 - accuracy: 0.8387 - val_loss: 0.3270 - val_accuracy: 0.8652\n",
      "Epoch 4/70\n",
      "86/87 [============================>.] - ETA: 0s - loss: 0.3099 - accuracy: 0.8590\n",
      "Epoch 00004: val_loss improved from 0.32705 to 0.26782, saving model to model.h5\n",
      "87/87 [==============================] - 12s 138ms/step - loss: 0.3093 - accuracy: 0.8594 - val_loss: 0.2678 - val_accuracy: 0.8739\n",
      "Epoch 5/70\n",
      "86/87 [============================>.] - ETA: 0s - loss: 0.2707 - accuracy: 0.8870\n",
      "Epoch 00005: val_loss improved from 0.26782 to 0.23611, saving model to model.h5\n",
      "87/87 [==============================] - 13s 151ms/step - loss: 0.2707 - accuracy: 0.8869 - val_loss: 0.2361 - val_accuracy: 0.9043\n",
      "Epoch 6/70\n",
      "86/87 [============================>.] - ETA: 0s - loss: 0.2523 - accuracy: 0.8935\n",
      "Epoch 00006: val_loss improved from 0.23611 to 0.21555, saving model to model.h5\n",
      "87/87 [==============================] - 13s 149ms/step - loss: 0.2519 - accuracy: 0.8938 - val_loss: 0.2156 - val_accuracy: 0.9000\n",
      "Epoch 7/70\n",
      "86/87 [============================>.] - ETA: 0s - loss: 0.2359 - accuracy: 0.8957\n",
      "Epoch 00007: val_loss improved from 0.21555 to 0.20540, saving model to model.h5\n",
      "87/87 [==============================] - 12s 138ms/step - loss: 0.2366 - accuracy: 0.8953 - val_loss: 0.2054 - val_accuracy: 0.9130\n",
      "Epoch 8/70\n",
      "86/87 [============================>.] - ETA: 0s - loss: 0.2085 - accuracy: 0.9197\n",
      "Epoch 00008: val_loss improved from 0.20540 to 0.19490, saving model to model.h5\n",
      "87/87 [==============================] - 11s 129ms/step - loss: 0.2084 - accuracy: 0.9199 - val_loss: 0.1949 - val_accuracy: 0.9116\n",
      "Epoch 9/70\n",
      "86/87 [============================>.] - ETA: 0s - loss: 0.1898 - accuracy: 0.9222\n",
      "Epoch 00009: val_loss did not improve from 0.19490\n",
      "87/87 [==============================] - 11s 128ms/step - loss: 0.1898 - accuracy: 0.9221 - val_loss: 0.2166 - val_accuracy: 0.9130\n",
      "Epoch 10/70\n",
      "86/87 [============================>.] - ETA: 0s - loss: 0.1782 - accuracy: 0.9233\n",
      "Epoch 00010: val_loss improved from 0.19490 to 0.18382, saving model to model.h5\n",
      "87/87 [==============================] - 11s 130ms/step - loss: 0.1781 - accuracy: 0.9235 - val_loss: 0.1838 - val_accuracy: 0.9319\n",
      "Epoch 11/70\n",
      "86/87 [============================>.] - ETA: 0s - loss: 0.1701 - accuracy: 0.9310\n",
      "Epoch 00011: val_loss improved from 0.18382 to 0.17861, saving model to model.h5\n",
      "87/87 [==============================] - 11s 130ms/step - loss: 0.1697 - accuracy: 0.9311 - val_loss: 0.1786 - val_accuracy: 0.9261\n",
      "Epoch 12/70\n",
      "86/87 [============================>.] - ETA: 0s - loss: 0.1499 - accuracy: 0.9382\n",
      "Epoch 00012: val_loss improved from 0.17861 to 0.16562, saving model to model.h5\n",
      "87/87 [==============================] - 11s 127ms/step - loss: 0.1505 - accuracy: 0.9380 - val_loss: 0.1656 - val_accuracy: 0.9246\n",
      "Epoch 13/70\n",
      "86/87 [============================>.] - ETA: 0s - loss: 0.1448 - accuracy: 0.9437\n",
      "Epoch 00013: val_loss did not improve from 0.16562\n",
      "87/87 [==============================] - 11s 129ms/step - loss: 0.1449 - accuracy: 0.9435 - val_loss: 0.2100 - val_accuracy: 0.9159\n",
      "Epoch 14/70\n",
      "86/87 [============================>.] - ETA: 0s - loss: 0.1207 - accuracy: 0.9531\n",
      "Epoch 00014: val_loss improved from 0.16562 to 0.13941, saving model to model.h5\n",
      "87/87 [==============================] - 11s 129ms/step - loss: 0.1205 - accuracy: 0.9532 - val_loss: 0.1394 - val_accuracy: 0.9362\n",
      "Epoch 15/70\n",
      "86/87 [============================>.] - ETA: 0s - loss: 0.1193 - accuracy: 0.9578\n",
      "Epoch 00015: val_loss did not improve from 0.13941\n",
      "87/87 [==============================] - 12s 133ms/step - loss: 0.1190 - accuracy: 0.9580 - val_loss: 0.1586 - val_accuracy: 0.9304\n",
      "Epoch 16/70\n",
      "86/87 [============================>.] - ETA: 0s - loss: 0.1096 - accuracy: 0.9557\n",
      "Epoch 00016: val_loss did not improve from 0.13941\n",
      "87/87 [==============================] - 12s 140ms/step - loss: 0.1093 - accuracy: 0.9558 - val_loss: 0.1431 - val_accuracy: 0.9290\n",
      "Epoch 17/70\n",
      "86/87 [============================>.] - ETA: 0s - loss: 0.1024 - accuracy: 0.9633\n",
      "Epoch 00017: val_loss improved from 0.13941 to 0.13714, saving model to model.h5\n",
      "87/87 [==============================] - 11s 132ms/step - loss: 0.1022 - accuracy: 0.9634 - val_loss: 0.1371 - val_accuracy: 0.9449\n",
      "Epoch 18/70\n",
      "86/87 [============================>.] - ETA: 0s - loss: 0.0992 - accuracy: 0.9640\n",
      "Epoch 00018: val_loss did not improve from 0.13714\n",
      "87/87 [==============================] - 11s 131ms/step - loss: 0.0991 - accuracy: 0.9641 - val_loss: 0.1475 - val_accuracy: 0.9391\n",
      "Epoch 19/70\n",
      "86/87 [============================>.] - ETA: 0s - loss: 0.0891 - accuracy: 0.9669\n",
      "Epoch 00019: val_loss did not improve from 0.13714\n",
      "87/87 [==============================] - 11s 129ms/step - loss: 0.0889 - accuracy: 0.9670 - val_loss: 0.1511 - val_accuracy: 0.9348\n",
      "Epoch 20/70\n",
      "86/87 [============================>.] - ETA: 0s - loss: 0.0764 - accuracy: 0.9702\n",
      "Epoch 00020: val_loss did not improve from 0.13714\n",
      "87/87 [==============================] - 12s 133ms/step - loss: 0.0763 - accuracy: 0.9703 - val_loss: 0.1602 - val_accuracy: 0.9290\n",
      "Epoch 00020: early stopping\n"
     ]
    }
   ],
   "source": [
    "training=model.fit(X_train, y_train, epochs=70, callbacks=callback_list, validation_split=0.2)"
   ]
  },
  {
   "cell_type": "markdown",
   "metadata": {},
   "source": [
    "#### load best model"
   ]
  },
  {
   "cell_type": "code",
   "execution_count": 27,
   "metadata": {},
   "outputs": [],
   "source": [
    "model = load_model('model.h5')"
   ]
  },
  {
   "cell_type": "markdown",
   "metadata": {
    "colab_type": "text",
    "id": "Y1nzcBvL1nQK"
   },
   "source": [
    "# Evaluation"
   ]
  },
  {
   "cell_type": "code",
   "execution_count": 15,
   "metadata": {
    "colab": {
     "base_uri": "https://localhost:8080/",
     "height": 71
    },
    "colab_type": "code",
    "executionInfo": {
     "elapsed": 180014,
     "status": "ok",
     "timestamp": 1598798776457,
     "user": {
      "displayName": "Michael Goncharov",
      "photoUrl": "https://lh3.googleusercontent.com/a-/AOh14Gh4KBmP55_UoYlU4EZj7JZCnChnOf9I6GTbVYD_cQ=s64",
      "userId": "13526504668916877091"
     },
     "user_tz": -180
    },
    "id": "E6FgDrLh1nQL",
    "outputId": "ca57951d-67f7-424d-b3df-af97f6faffe9"
   },
   "outputs": [],
   "source": [
    "from matplotlib import pyplot as plt\n",
    "from sklearn.metrics import classification_report, confusion_matrix\n",
    "import seaborn as sns"
   ]
  },
  {
   "cell_type": "markdown",
   "metadata": {
    "colab_type": "text",
    "id": "vO_xDtuM1nQN"
   },
   "source": [
    "#### plot loss and accuracy on train and dev sets"
   ]
  },
  {
   "cell_type": "code",
   "execution_count": 16,
   "metadata": {
    "colab": {
     "base_uri": "https://localhost:8080/",
     "height": 295
    },
    "colab_type": "code",
    "executionInfo": {
     "elapsed": 180007,
     "status": "ok",
     "timestamp": 1598798776459,
     "user": {
      "displayName": "Michael Goncharov",
      "photoUrl": "https://lh3.googleusercontent.com/a-/AOh14Gh4KBmP55_UoYlU4EZj7JZCnChnOf9I6GTbVYD_cQ=s64",
      "userId": "13526504668916877091"
     },
     "user_tz": -180
    },
    "id": "UeDzMCkT1nQO",
    "outputId": "962738b1-53dc-4e94-b78a-73ea99103299"
   },
   "outputs": [
    {
     "data": {
      "image/png": "[encoded data removed]",
      "text/plain": [
       "<Figure size 432x288 with 1 Axes>"
      ]
     },
     "metadata": {
      "needs_background": "light"
     },
     "output_type": "display_data"
    }
   ],
   "source": [
    "plt.plot(training.history['loss'],'r', label='training loss')\n",
    "plt.plot(training.history['val_loss'], label='validation loss')\n",
    "plt.xlabel('epoch')\n",
    "plt.ylabel('loss')\n",
    "plt.xticks(rotation='vertical')\n",
    "plt.title('train and dev loss as function of epoch')\n",
    "plt.legend()\n",
    "plt.show()"
   ]
  },
  {
   "cell_type": "code",
   "execution_count": 17,
   "metadata": {
    "colab": {
     "base_uri": "https://localhost:8080/",
     "height": 295
    },
    "colab_type": "code",
    "executionInfo": {
     "elapsed": 180571,
     "status": "ok",
     "timestamp": 1598798777037,
     "user": {
      "displayName": "Michael Goncharov",
      "photoUrl": "https://lh3.googleusercontent.com/a-/AOh14Gh4KBmP55_UoYlU4EZj7JZCnChnOf9I6GTbVYD_cQ=s64",
      "userId": "13526504668916877091"
     },
     "user_tz": -180
    },
    "id": "F7lbeVJz1nQR",
    "outputId": "ec42b5a7-fe6f-4c2b-e5fa-4228e6d3f1f1"
   },
   "outputs": [
    {
     "data": {
      "image/png": "[encoded data removed]",
      "text/plain": [
       "<Figure size 432x288 with 1 Axes>"
      ]
     },
     "metadata": {
      "needs_background": "light"
     },
     "output_type": "display_data"
    }
   ],
   "source": [
    "plt.plot(training.history['accuracy'],'r',label='training accuracy')\n",
    "plt.plot(training.history['val_accuracy'],label='validation accuracy')\n",
    "plt.xlabel('# epochs')\n",
    "plt.xticks(rotation='vertical')\n",
    "plt.ylabel('accuracy')\n",
    "plt.title('train and dev acc as function of epoch')\n",
    "plt.legend()\n",
    "plt.show()"
   ]
  },
  {
   "cell_type": "markdown",
   "metadata": {
    "colab_type": "text",
    "id": "Yg65YY4H1nQV"
   },
   "source": [
    "#### evaluate the model"
   ]
  },
  {
   "cell_type": "code",
   "execution_count": 24,
   "metadata": {
    "colab": {
     "base_uri": "https://localhost:8080/",
     "height": 51
    },
    "colab_type": "code",
    "executionInfo": {
     "elapsed": 180803,
     "status": "ok",
     "timestamp": 1598798777297,
     "user": {
      "displayName": "Michael Goncharov",
      "photoUrl": "https://lh3.googleusercontent.com/a-/AOh14Gh4KBmP55_UoYlU4EZj7JZCnChnOf9I6GTbVYD_cQ=s64",
      "userId": "13526504668916877091"
     },
     "user_tz": -180
    },
    "id": "haSf4rEY1nQV",
    "outputId": "9541827e-9dc7-4f36-9245-e9230855d69d"
   },
   "outputs": [
    {
     "name": "stdout",
     "output_type": "stream",
     "text": [
      "12/12 [==============================] - 0s 28ms/step - loss: 0.1089 - accuracy: 0.9531\n"
     ]
    },
    {
     "data": {
      "text/plain": [
       "[0.10892316699028015, 0.953125]"
      ]
     },
     "execution_count": 24,
     "metadata": {},
     "output_type": "execute_result"
    }
   ],
   "source": [
    "model.evaluate(X_test, y_test)"
   ]
  },
  {
   "cell_type": "markdown",
   "metadata": {},
   "source": [
    "#### print classification report"
   ]
  },
  {
   "cell_type": "code",
   "execution_count": 19,
   "metadata": {
    "colab": {
     "base_uri": "https://localhost:8080/",
     "height": 170
    },
    "colab_type": "code",
    "executionInfo": {
     "elapsed": 678,
     "status": "ok",
     "timestamp": 1598799033464,
     "user": {
      "displayName": "Michael Goncharov",
      "photoUrl": "https://lh3.googleusercontent.com/a-/AOh14Gh4KBmP55_UoYlU4EZj7JZCnChnOf9I6GTbVYD_cQ=s64",
      "userId": "13526504668916877091"
     },
     "user_tz": -180
    },
    "id": "4gkMQiSgzuYd",
    "outputId": "177a925b-3d39-431e-bd4d-abc80c203f3c"
   },
   "outputs": [
    {
     "name": "stdout",
     "output_type": "stream",
     "text": [
      "              precision    recall  f1-score   support\n",
      "\n",
      "           0       0.92      0.92      0.92       181\n",
      "           1       0.93      0.93      0.93       203\n",
      "\n",
      "    accuracy                           0.92       384\n",
      "   macro avg       0.92      0.92      0.92       384\n",
      "weighted avg       0.92      0.92      0.92       384\n",
      "\n"
     ]
    }
   ],
   "source": [
    "y_pred = model.predict(X_test)\n",
    "cr = classification_report(y_test.argmax(axis=1), y_pred.argmax(axis=1))\n",
    "print(cr)\n"
   ]
  },
  {
   "cell_type": "markdown",
   "metadata": {},
   "source": [
    "#### plot confusion matrix and roc curve"
   ]
  },
  {
   "cell_type": "code",
   "execution_count": 20,
   "metadata": {
    "colab": {
     "base_uri": "https://localhost:8080/",
     "height": 281
    },
    "colab_type": "code",
    "executionInfo": {
     "elapsed": 181978,
     "status": "ok",
     "timestamp": 1598798778488,
     "user": {
      "displayName": "Michael Goncharov",
      "photoUrl": "https://lh3.googleusercontent.com/a-/AOh14Gh4KBmP55_UoYlU4EZj7JZCnChnOf9I6GTbVYD_cQ=s64",
      "userId": "13526504668916877091"
     },
     "user_tz": -180
    },
    "id": "swtc_uzZFfiy",
    "outputId": "e27d0c76-eb89-4061-ca47-c1c7f52359b3"
   },
   "outputs": [
    {
     "data": {
      "image/png": "[encoded data removed]",
      "text/plain": [
       "<Figure size 432x288 with 2 Axes>"
      ]
     },
     "metadata": {
      "needs_background": "light"
     },
     "output_type": "display_data"
    }
   ],
   "source": [
    "sns.heatmap(confusion_matrix(y_test.argmax(axis=1), y_pred.argmax(axis=1)), annot=True)\n",
    "plt.title('confusion matrix heatmap')\n",
    "plt.show()"
   ]
  },
  {
   "cell_type": "code",
   "execution_count": 21,
   "metadata": {},
   "outputs": [
    {
     "data": {
      "image/png": "[encoded data removed]",
      "text/plain": [
       "<Figure size 432x288 with 1 Axes>"
      ]
     },
     "metadata": {
      "needs_background": "light"
     },
     "output_type": "display_data"
    }
   ],
   "source": [
    "import sklearn.metrics as metrics\n",
    "preds = y_pred.argmax(axis=1)\n",
    "fpr, tpr, threshold = metrics.roc_curve(y_test.argmax(axis=1), preds)\n",
    "roc_auc = metrics.auc(fpr, tpr)\n",
    "\n",
    "plt.title('Receiver Operating Characteristic')\n",
    "plt.plot(fpr, tpr, 'b', label = 'AUC = %0.2f' % roc_auc)\n",
    "plt.legend(loc = 'lower right')\n",
    "plt.plot([0, 1], [0, 1],'r--')\n",
    "plt.xlim([0, 1])\n",
    "plt.ylim([0, 1])\n",
    "plt.ylabel('True Positive Rate')\n",
    "plt.xlabel('False Positive Rate')\n",
    "plt.show()\n"
   ]
  },
  {
   "cell_type": "markdown",
   "metadata": {},
   "source": [
    "#### launch video capture with real time labeling"
   ]
  },
  {
   "cell_type": "code",
   "execution_count": 30,
   "metadata": {},
   "outputs": [],
   "source": [
    "face_cascade = cv2.CascadeClassifier('haarcascade_frontalface_default.xml')\n",
    "\n",
    "cap = cv2.VideoCapture(0)\n",
    "labels_dict={1:'with_mask',0:'without_mask'}\n",
    "color_dict={0:(0,0,255),1:(0,255,0)}\n",
    "\n",
    "while True:\n",
    "    ret, frame = cap.read()\n",
    "    gray = cv2.cvtColor(frame, cv2.COLOR_BGR2GRAY)\n",
    "    faces = face_cascade.detectMultiScale(gray, 1.3, 5)\n",
    "    for (x, y, w, h) in faces:\n",
    "        face_img=gray[y:y+w,x:x+w]        \n",
    "        resized=cv2.resize(face_img,(IM_SIZE,IM_SIZE))\n",
    "        normalized=resized/255.0\n",
    "        reshaped=np.reshape(normalized,(1,IM_SIZE,IM_SIZE,1))\n",
    "        result=model.predict(reshaped)\n",
    "        label=np.argmax(result,axis=1)[0]\n",
    "        cv2.rectangle(frame,(x,y),(x+w,y+h),color_dict[label],2)\n",
    "        cv2.rectangle(frame,(x,y-40),(x+w,y),color_dict[label],-1)\n",
    "        cv2.putText(frame, labels_dict[label], (x, y-10), cv2.FONT_HERSHEY_SIMPLEX,0.5,(255,255,255),2)\n",
    "        \n",
    "    cv2.imshow('LIVE',frame)\n",
    "    key=cv2.waitKey(1)\n",
    "    \n",
    "    if(key==27):\n",
    "        break\n",
    "        \n",
    "cv2.destroyAllWindows()\n",
    "cap.release()\n"
   ]
  },
  {
   "cell_type": "code",
   "execution_count": null,
   "metadata": {},
   "outputs": [],
   "source": []
  }
 ],
 "metadata": {
  "colab": {
   "name": "baseline.ipynb",
   "provenance": [
    {
     "file_id": "1jypI2c7Xhc5_UPbDGxUFqwYVubWlYAVI",
     "timestamp": 1598801357070
    }
   ]
  },
  "kernelspec": {
   "display_name": "Python 3",
   "language": "python",
   "name": "python3"
  },
  "language_info": {
   "codemirror_mode": {
    "name": "ipython",
    "version": 3
   },
   "file_extension": ".py",
   "mimetype": "text/x-python",
   "name": "python",
   "nbconvert_exporter": "python",
   "pygments_lexer": "ipython3",
   "version": "3.6.10"
  }
 },
 "nbformat": 4,
 "nbformat_minor": 1
}
